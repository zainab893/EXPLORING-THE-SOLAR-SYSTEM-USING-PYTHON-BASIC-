{
  "nbformat": 4,
  "nbformat_minor": 0,
  "metadata": {
    "colab": {
      "provenance": []
    },
    "kernelspec": {
      "name": "python3",
      "display_name": "Python 3"
    },
    "language_info": {
      "name": "python"
    }
  },
  "cells": [
    {
      "cell_type": "code",
      "execution_count": 9,
      "metadata": {
        "id": "5gaZkHBFFX7g"
      },
      "outputs": [],
      "source": [
        "# SYEDA ZAINAB FATIMA\n",
        "# WS25-PAK-INP-AI01\n",
        "# PYTHON BASIC PROJECT"
      ]
    },
    {
      "cell_type": "code",
      "source": [
        "# TOPIC : EXPLORING THE SOLAR SYSTEM USING PYTHON"
      ],
      "metadata": {
        "id": "r1KCHe2VFYnk"
      },
      "execution_count": 102,
      "outputs": []
    },
    {
      "cell_type": "code",
      "source": [
        "# VARIABLES\n",
        "\n",
        "# INTRODUCTION TO PLANETS\n",
        "\n",
        "PLANETS = \"Any of the large bodies that revolve around the Sun in the solar system.\"\n",
        "print(PLANETS)\n",
        "\n",
        "print(\"Now let's see the planets\")\n",
        "\n",
        "PLANET_1 = \"MERCURY\"\n",
        "PLANET_2 = \"VENUS\"\n",
        "PLANET_3 = \"EARTH\"\n",
        "PLANET_4 = \"MARS\"\n",
        "PLANET_5 = \"JUPITER\"\n",
        "PLANET_6 = \"SATURN\"\n",
        "PLANET_7 = \"URANUS\"\n",
        "PLANET_8 = \"NEPTUNE\"\n",
        "\n",
        "print(PLANET_1)\n",
        "print(PLANET_2)\n",
        "print(PLANET_3)\n",
        "print(PLANET_4)\n",
        "print(PLANET_5)\n",
        "print(PLANET_6)\n",
        "print(PLANET_7)\n",
        "print(PLANET_8)\n",
        "\n",
        "\n",
        "print(\"The planets are divided into two parts\")\n",
        "\n",
        "part_1 = \"INNER PLANETS\"\n",
        "PART_2 = \"OUTER PLANETS\"\n",
        "\n",
        "INNER_PLANETS = (\"The first four planets are inner planets,they are also called Terrestrial planets : Mercury, venus, earth, mars\")\n",
        "OUTER_PLANETS = (\"The last four planets are outer planets, they have swirling gas above a core : Jupiter, Saturn, Uranus, Neptune\")\n",
        "\n",
        "print(INNER_PLANETS)\n",
        "print(OUTER_PLANETS)"
      ],
      "metadata": {
        "colab": {
          "base_uri": "https://localhost:8080/"
        },
        "id": "CSlk17TYFYsq",
        "outputId": "f39c50a6-c617-4595-e198-be57929cd827"
      },
      "execution_count": 98,
      "outputs": [
        {
          "output_type": "stream",
          "name": "stdout",
          "text": [
            "Any of the large bodies that revolve around the Sun in the solar system.\n",
            "Now let's see the planets\n",
            "MERCURY\n",
            "VENUS\n",
            "EARTH\n",
            "MARS\n",
            "JUPITER\n",
            "SATURN\n",
            "URANUS\n",
            "NEPTUNE\n",
            "The planets are divided into two parts\n",
            "The first four planets are inner planets,they are also called Terrestrial planets : Mercury, venus, earth, mars\n",
            "The last four planets are outer planets, they have swirling gas above a core : Jupiter, Saturn, Uranus, Neptune\n"
          ]
        }
      ]
    },
    {
      "cell_type": "code",
      "source": [
        "# INNER PLANETS"
      ],
      "metadata": {
        "id": "_DefACEEnSyk"
      },
      "execution_count": 13,
      "outputs": []
    },
    {
      "cell_type": "code",
      "source": [
        "# MERCURY DATA TYPES\n",
        "\n",
        "#STRINGS\n",
        "MERCURY = \"The smallest planet in our solar system and nearest to the Sun\"\n",
        "print(MERCURY)\n",
        "\n",
        "TEMP_CONDITIONS = \"Mercury's surface temperatures are both extremely hot and cold\"\n",
        "print(TEMP_CONDITIONS)\n",
        "\n",
        "# INTEGER\n",
        "M_DTEMP = 430\n",
        "M_NTEMP = -180\n",
        "print(M_DTEMP)\n",
        "print(M_NTEMP)\n",
        "\n",
        "# FLOAT\n",
        "M_AU = 0.4\n",
        "sunlight_travel = 3.2\n",
        "print(M_AU)\n",
        "print(sunlight_travel)\n",
        "\n",
        "# BOOLEAN\n",
        "is_M_hottest_planet = \"False\"\n",
        "is_M_Fastest_planet = \"True\"\n",
        "print(is_M_hottest_planet)\n",
        "print(is_M_Fastest_planet)\n",
        "\n",
        "type(MERCURY)\n",
        "type(TEMP_CONDITIONS)\n",
        "type(M_DTEMP)\n",
        "# type(M_NTEMP)\n",
        "type(M_AU)\n",
        "# type(sunlight_travel)\n",
        "type(is_M_hottest_planet)\n",
        "# type(is_M_Fastest_planet)\n",
        "\n"
      ],
      "metadata": {
        "colab": {
          "base_uri": "https://localhost:8080/"
        },
        "id": "_sN-N1euFYzP",
        "outputId": "5f2513ae-4669-4129-ef6e-2d07dfce3369"
      },
      "execution_count": 14,
      "outputs": [
        {
          "output_type": "stream",
          "name": "stdout",
          "text": [
            "The smallest planet in our solar system and nearest to the Sun\n",
            "Mercury's surface temperatures are both extremely hot and cold\n",
            "430\n",
            "-180\n",
            "0.4\n",
            "3.2\n",
            "False\n",
            "True\n"
          ]
        },
        {
          "output_type": "execute_result",
          "data": {
            "text/plain": [
              "str"
            ]
          },
          "metadata": {},
          "execution_count": 14
        }
      ]
    },
    {
      "cell_type": "code",
      "source": [
        "# MERCURY INPUTS AND TYPE CASTING\n",
        "\n",
        "# STRING\n",
        "PLANET_MERCURY = input(\"Please enter the first planet: \")\n",
        "\n",
        "# FLOAT\n",
        "Astronomical_unit_mercury = float(input(\"Please enter the AU of mercury planet: \"))\n",
        "\n",
        "# INTEGER\n",
        "MERCURY_DTEMP = int(input(\"Please enter the DTEMP of mercury planet: \"))\n",
        "MERCURY_NTEMP = int(input(\"Please enter the NTEMP of mercury planet: \"))\n",
        "\n",
        "# BOOLEAN\n",
        "is_m_hottest = bool(input(\"is Mercury the hottest planet?: \"))\n",
        "is_m_fastest = bool(input(\"is Mercury the fastest planet?: \"))\n"
      ],
      "metadata": {
        "colab": {
          "base_uri": "https://localhost:8080/"
        },
        "id": "7UxbrSLBFY1l",
        "outputId": "b8694c73-9ce7-47f6-98d6-3180b5f56720"
      },
      "execution_count": 15,
      "outputs": [
        {
          "name": "stdout",
          "output_type": "stream",
          "text": [
            "Please enter the first planet: mercury\n",
            "Please enter the AU of mercury planet: 0.4\n",
            "Please enter the DTEMP of mercury planet: 430\n",
            "Please enter the NTEMP of mercury planet: 150\n",
            "is Mercury the hottest planet?: yes\n",
            "is Mercury the fastest planet?: yes\n"
          ]
        }
      ]
    },
    {
      "cell_type": "code",
      "source": [
        "# MERCURY AND OPERATORS\n",
        "\n",
        "# ARITHEMATIC OPERATORS\n",
        "M_RADIUS =  2439.7\n",
        "M_ORBIT_RADIUS = 57910000\n",
        "\n",
        "print(M_RADIUS)\n",
        "print(M_ORBIT_RADIUS)\n",
        "\n",
        "# OPERATIONS\n",
        "DIAMETER = M_RADIUS * 2   # MULTIPLICATION\n",
        "HALF_ORBIT = M_ORBIT_RADIUS / 2   # DIVISION\n",
        "ORBIT_ADD_10 = M_ORBIT_RADIUS + 10000  # ADDITION\n",
        "ORBIT_SUB_10 = M_ORBIT_RADIUS - 10000  # SUBTRACTION\n",
        "\n",
        "print(DIAMETER)\n",
        "print(HALF_ORBIT)\n",
        "print(ORBIT_ADD_10)\n",
        "print(ORBIT_SUB_10)\n",
        "\n",
        "# ASSIGNMENT OPERATORS\n",
        "D_TEMP = 430\n",
        "N_TEMP = -180\n",
        "\n",
        "print(D_TEMP)\n",
        "print(N_TEMP)\n",
        "\n",
        "D_TEMP = 20\n",
        "N_TEMP = 20\n",
        "MD_DTEMP = 2\n",
        "DH_NTEMP = 2\n",
        "\n",
        "D_TEMP += 20\n",
        "N_TEMP -= 20\n",
        "MD_DTEMP *= 2\n",
        "DH_NTEMP /= 2\n",
        "\n",
        "print(D_TEMP)\n",
        "print(N_TEMP)\n",
        "print(MD_DTEMP)\n",
        "print(DH_NTEMP)\n",
        "\n",
        "# COMPARISON OPERATORS\n",
        "M_DAYS_ORBITS = 88\n",
        "DAYS_GUESS = 88\n",
        "print(M_DAYS_ORBITS == DAYS_GUESS)\n",
        "print(M_DAYS_ORBITS != DAYS_GUESS)\n",
        "print(M_DAYS_ORBITS > DAYS_GUESS)\n",
        "print(M_DAYS_ORBITS < DAYS_GUESS)\n",
        "print(M_DAYS_ORBITS >= DAYS_GUESS)\n",
        "print(M_DAYS_ORBITS <= DAYS_GUESS)\n",
        "\n",
        "# LOGICAL OPERATORS\n",
        "M_is_closest_sun = True\n",
        "M_is_hottest_planet = False\n",
        "\n",
        "print(M_is_closest_sun and M_is_hottest_planet )\n",
        "print(M_is_closest_sun or M_is_hottest_planet )\n",
        "print(not (M_is_hottest_planet))\n",
        "print(not (M_is_closest_sun))"
      ],
      "metadata": {
        "colab": {
          "base_uri": "https://localhost:8080/"
        },
        "id": "gyl7Zy5mRsry",
        "outputId": "4154b749-bde5-497e-f6c4-f15b365acbfc"
      },
      "execution_count": 101,
      "outputs": [
        {
          "output_type": "stream",
          "name": "stdout",
          "text": [
            "2439.7\n",
            "57910000\n",
            "4879.4\n",
            "28955000.0\n",
            "57920000\n",
            "57900000\n",
            "430\n",
            "-180\n",
            "40\n",
            "0\n",
            "4\n",
            "1.0\n",
            "True\n",
            "False\n",
            "False\n",
            "False\n",
            "True\n",
            "True\n",
            "False\n",
            "True\n",
            "True\n",
            "False\n"
          ]
        }
      ]
    },
    {
      "cell_type": "code",
      "source": [
        "# MERCURY AND CONDITIONS\n",
        "Mercury_orbits = 85\n",
        "if Mercury_orbits < 90:\n",
        "  print(\"mercury is the fastest planet\")\n",
        "else:\n",
        "  print(\"mercury is not the fastest planet\")\n",
        "\n",
        "mercury_temp = 400\n",
        "if mercury_temp > 400:\n",
        "  print(\"mercury is the hottest planet\")\n",
        "elif mercury_temp == 400:\n",
        "  print(\"it is not extremely hot\")\n",
        "else:\n",
        "  print(\"it is moderately hot\")"
      ],
      "metadata": {
        "colab": {
          "base_uri": "https://localhost:8080/"
        },
        "id": "FjDHE6NJ0fs9",
        "outputId": "20371692-60df-44cd-fb91-9dc018420443"
      },
      "execution_count": 19,
      "outputs": [
        {
          "output_type": "stream",
          "name": "stdout",
          "text": [
            "mercury is the fastest planet\n",
            "it is not extremely hot\n"
          ]
        }
      ]
    },
    {
      "cell_type": "code",
      "source": [
        "# MERCURY AND LOOPS\n",
        "\n",
        "# FOR LOOPS\n",
        "for x in \"mercury\":\n",
        "  print(x)\n",
        "\n",
        "name =\"mercury\"\n",
        "for x in name:\n",
        "  print(name)\n",
        "\n",
        "\n",
        "# WHILE LOOPS\n",
        "Mercury_moons = 0\n",
        "while Mercury_moons < 5:\n",
        "  Mercury_moons += 1\n",
        "  print(Mercury_moons)\n",
        "\n",
        "days = 88\n",
        "while days > 0:\n",
        "  days -= 1\n",
        "  print(days)"
      ],
      "metadata": {
        "colab": {
          "base_uri": "https://localhost:8080/"
        },
        "id": "ECieD4cK0glA",
        "outputId": "5e2ccc50-a4d5-4c1d-f404-fcfb3f24d56f"
      },
      "execution_count": 20,
      "outputs": [
        {
          "output_type": "stream",
          "name": "stdout",
          "text": [
            "m\n",
            "e\n",
            "r\n",
            "c\n",
            "u\n",
            "r\n",
            "y\n",
            "mercury\n",
            "mercury\n",
            "mercury\n",
            "mercury\n",
            "mercury\n",
            "mercury\n",
            "mercury\n",
            "1\n",
            "2\n",
            "3\n",
            "4\n",
            "5\n",
            "87\n",
            "86\n",
            "85\n",
            "84\n",
            "83\n",
            "82\n",
            "81\n",
            "80\n",
            "79\n",
            "78\n",
            "77\n",
            "76\n",
            "75\n",
            "74\n",
            "73\n",
            "72\n",
            "71\n",
            "70\n",
            "69\n",
            "68\n",
            "67\n",
            "66\n",
            "65\n",
            "64\n",
            "63\n",
            "62\n",
            "61\n",
            "60\n",
            "59\n",
            "58\n",
            "57\n",
            "56\n",
            "55\n",
            "54\n",
            "53\n",
            "52\n",
            "51\n",
            "50\n",
            "49\n",
            "48\n",
            "47\n",
            "46\n",
            "45\n",
            "44\n",
            "43\n",
            "42\n",
            "41\n",
            "40\n",
            "39\n",
            "38\n",
            "37\n",
            "36\n",
            "35\n",
            "34\n",
            "33\n",
            "32\n",
            "31\n",
            "30\n",
            "29\n",
            "28\n",
            "27\n",
            "26\n",
            "25\n",
            "24\n",
            "23\n",
            "22\n",
            "21\n",
            "20\n",
            "19\n",
            "18\n",
            "17\n",
            "16\n",
            "15\n",
            "14\n",
            "13\n",
            "12\n",
            "11\n",
            "10\n",
            "9\n",
            "8\n",
            "7\n",
            "6\n",
            "5\n",
            "4\n",
            "3\n",
            "2\n",
            "1\n",
            "0\n"
          ]
        }
      ]
    },
    {
      "cell_type": "code",
      "source": [
        "# MERCURY AND FUNCTIONS\n",
        "def mercury_planet():\n",
        "  print(\"mercury is the smallest planet in our solar system\")\n",
        "mercury_planet()\n",
        "\n",
        "def mer_planet():\n",
        "  print(\"mercury is the first planet from the sun\")\n",
        "mer_planet()"
      ],
      "metadata": {
        "colab": {
          "base_uri": "https://localhost:8080/"
        },
        "id": "x3IJGVpt0g3C",
        "outputId": "c0168491-dae6-4e1b-8736-fe78e5574a86"
      },
      "execution_count": 21,
      "outputs": [
        {
          "output_type": "stream",
          "name": "stdout",
          "text": [
            "mercury is the smallest planet in our solar system\n",
            "mercury is the first planet from the sun\n"
          ]
        }
      ]
    },
    {
      "cell_type": "code",
      "source": [
        "# VENUS DATA TYPES\n",
        "\n",
        "# STRING\n",
        "VENUS = \"It's the hottest planet in our solar system, and is sometimes called Earth's twin.\"\n",
        "print(VENUS)\n",
        "\n",
        "# INTEGER\n",
        "V_TEMP = 475\n",
        "print(V_TEMP)\n",
        "\n",
        "# FLOAT\n",
        "V_AU = 0.72\n",
        "V_sunlight_travel = 6.0\n",
        "print(V_AU)\n",
        "print(V_sunlight_travel)\n",
        "\n",
        "# BOOLEAN\n",
        "is_V_hottest_planet = \"True\"\n",
        "is_V_Fastest_planet = \"False\"\n",
        "print(is_V_hottest_planet)\n",
        "print(is_V_Fastest_planet)\n",
        "\n",
        "type(VENUS)\n",
        "type(V_TEMP)\n",
        "type(V_AU)\n",
        "type(V_sunlight_travel)\n",
        "type(is_V_hottest_planet)\n"
      ],
      "metadata": {
        "colab": {
          "base_uri": "https://localhost:8080/"
        },
        "id": "bvbypIi6Rsub",
        "outputId": "b369fcf0-4636-45b4-e64f-7b344150ad62"
      },
      "execution_count": 82,
      "outputs": [
        {
          "output_type": "stream",
          "name": "stdout",
          "text": [
            "It's the hottest planet in our solar system, and is sometimes called Earth's twin.\n",
            "475\n",
            "0.72\n",
            "6.0\n",
            "True\n",
            "False\n"
          ]
        },
        {
          "output_type": "execute_result",
          "data": {
            "text/plain": [
              "str"
            ]
          },
          "metadata": {},
          "execution_count": 82
        }
      ]
    },
    {
      "cell_type": "code",
      "source": [
        "# VENUS INPUTS AND TYPE CASTING\n",
        "\n",
        "# STRING\n",
        "PLANET_VENUS = input(\"Please enter the second planet: \")\n",
        "\n",
        "# FLOAT\n",
        "Astronomical_unit_venus = float(input(\"Please enter the AU of venus planet: \"))\n",
        "\n",
        "# INTEGER\n",
        "V_TEMP = int(input(\"Please enter the temperature of venus planet: \"))\n",
        "\n",
        "# BOOLEAN\n",
        "is_V_hottest = bool(input(\"is Venus the hottest planet?: \"))\n",
        "is_V_fastest = bool(input(\"is Venus the fastest planet?: \"))"
      ],
      "metadata": {
        "colab": {
          "base_uri": "https://localhost:8080/"
        },
        "id": "OnVrqilVRsw6",
        "outputId": "5380432d-2a21-41bb-e77d-d4c1f955cccc"
      },
      "execution_count": 27,
      "outputs": [
        {
          "name": "stdout",
          "output_type": "stream",
          "text": [
            "Please enter the second planet: Venus\n",
            "Please enter the AU of venus planet: 0.72\n",
            "Please enter the temperature of venus planet: 475\n",
            "is Venus the hottest planet?: True\n",
            "is Venus the fastest planet?: False\n"
          ]
        }
      ]
    },
    {
      "cell_type": "code",
      "source": [
        "# VENUS AND OPERATORS\n",
        "\n",
        "# ARITHEMATIC OPERATORS\n",
        "V_ORBIT_TIME = 225\n",
        "V_ORBIT_RADIUS = 6051.8\n",
        "\n",
        "V_DIAMETER = V_ORBIT_RADIUS * 2\n",
        "V_HALF_ORBIT = V_ORBIT_TIME / 2\n",
        "V_ADD_ORBIT_TIME = V_ORBIT_TIME + 10\n",
        "V_SUB_ORBIT_TIME = V_ORBIT_TIME - 10\n",
        "\n",
        "print(V_DIAMETER)\n",
        "print(V_HALF_ORBIT)\n",
        "print(V_ADD_ORBIT_TIME)\n",
        "print(V_SUB_ORBIT_TIME)\n",
        "\n",
        "# ASSIGNMNET OPERATORS\n",
        "venus_temp = 475  # in Celsius\n",
        "venus_Add_temp = 5\n",
        "venus_Sub_temp = 10\n",
        "venus_Mul_temp = 2\n",
        "venus_Div_temp = 2\n",
        "\n",
        "\n",
        "venus_Add_temp += 5\n",
        "venus_Sub_temp -= 10\n",
        "venus_Mul_temp *= 2\n",
        "venus_Div_temp /= 2\n",
        "\n",
        "print(venus_Add_temp)\n",
        "print(venus_Sub_temp)\n",
        "print(venus_Mul_temp)\n",
        "print(venus_Div_temp)\n",
        "\n",
        "# COMPARISON OPERATORS\n",
        "one_Day_venus = 243 # Earth days\n",
        "one_Day_guess = 245\n",
        "print(one_Day_venus == one_Day_guess)\n",
        "print(one_Day_venus != one_Day_guess)\n",
        "print(one_Day_venus > one_Day_guess)\n",
        "print(one_Day_venus < one_Day_guess)\n",
        "print(one_Day_venus >= one_Day_guess)\n",
        "print(one_Day_venus <= one_Day_guess)\n",
        "\n",
        "# LOGICAL OPERATORS\n",
        "V_is_hottest_planet = True\n",
        "V_is_fastest_planet = False\n",
        "print(V_is_hottest_planet and V_is_fastest_planet)\n",
        "print(V_is_hottest_planet or V_is_fastest_planet)\n",
        "print(not(V_is_hottest_planet))\n",
        "print(not(V_is_fastest_planet))"
      ],
      "metadata": {
        "colab": {
          "base_uri": "https://localhost:8080/"
        },
        "id": "Sj5aQdgBRsz6",
        "outputId": "eaf31d78-93ef-4831-adcd-53abaeec7d8c"
      },
      "execution_count": 32,
      "outputs": [
        {
          "output_type": "stream",
          "name": "stdout",
          "text": [
            "12103.6\n",
            "112.5\n",
            "235\n",
            "215\n",
            "10\n",
            "0\n",
            "4\n",
            "1.0\n",
            "False\n",
            "True\n",
            "False\n",
            "True\n",
            "False\n",
            "True\n",
            "False\n",
            "True\n",
            "False\n",
            "True\n"
          ]
        }
      ]
    },
    {
      "cell_type": "code",
      "source": [
        "# VENUS AND CONDITIONS\n",
        "\n",
        "VENUS_TEMPERATURE = 300\n",
        "if VENUS_TEMPERATURE > 400:\n",
        "  print(\"venus is the hottest planet\")\n",
        "else:\n",
        "  print(\"venus is not the hottest planet\")\n",
        "\n",
        "VENUS_GRAVITY = 8.87\n",
        "EARTH_GRAVITY = 9.81\n",
        "if VENUS_GRAVITY > EARTH_GRAVITY:\n",
        "  print(\"venus has stronger gravity\")\n",
        "elif VENUS_GRAVITY == EARTH_GRAVITY:\n",
        "  print(\"they both has the same gravity\")\n",
        "else:\n",
        "  print(\"venus has weaker gravity\")"
      ],
      "metadata": {
        "colab": {
          "base_uri": "https://localhost:8080/"
        },
        "id": "EZsZRZF_2UwC",
        "outputId": "5433b989-4f0b-4d25-9120-6728dc2654e2"
      },
      "execution_count": 33,
      "outputs": [
        {
          "output_type": "stream",
          "name": "stdout",
          "text": [
            "venus is not the hottest planet\n",
            "venus has weaker gravity\n"
          ]
        }
      ]
    },
    {
      "cell_type": "code",
      "source": [
        "# VENUS AND LOOPS\n",
        "\n",
        "# FOR LOOPS\n",
        "for i in range(5):\n",
        "  print(\"Venus rotation\")\n",
        "\n",
        "property_venus = \"hottest planet\"\n",
        "for i in property_venus:\n",
        "  print(property_venus)\n",
        "\n",
        "# WHILE LOOPS\n",
        "\n",
        "COUNT = 0\n",
        "while COUNT < 5:\n",
        "  COUNT += 1\n",
        "  print(\"venus is hottest planet\")"
      ],
      "metadata": {
        "colab": {
          "base_uri": "https://localhost:8080/"
        },
        "id": "vn6u0avS2U9b",
        "outputId": "3fc62680-4089-49cb-e7d2-11f271504019"
      },
      "execution_count": 34,
      "outputs": [
        {
          "output_type": "stream",
          "name": "stdout",
          "text": [
            "Venus rotation\n",
            "Venus rotation\n",
            "Venus rotation\n",
            "Venus rotation\n",
            "Venus rotation\n",
            "hottest planet\n",
            "hottest planet\n",
            "hottest planet\n",
            "hottest planet\n",
            "hottest planet\n",
            "hottest planet\n",
            "hottest planet\n",
            "hottest planet\n",
            "hottest planet\n",
            "hottest planet\n",
            "hottest planet\n",
            "hottest planet\n",
            "hottest planet\n",
            "hottest planet\n",
            "venus is hottest planet\n",
            "venus is hottest planet\n",
            "venus is hottest planet\n",
            "venus is hottest planet\n",
            "venus is hottest planet\n"
          ]
        }
      ]
    },
    {
      "cell_type": "code",
      "source": [
        "# VENUS AND FUCTIONS\n",
        "def venus_planet():\n",
        "  print(\"venus is the second and the hottest planet\")\n",
        "venus_planet()\n",
        "def venus_SName():\n",
        "  print(\"It's the hottest planet in our solar system, and is sometimes called Earth's twin.\")\n",
        "venus_SName()"
      ],
      "metadata": {
        "colab": {
          "base_uri": "https://localhost:8080/"
        },
        "id": "w86EJn4bPjSQ",
        "outputId": "c04bfc71-6f3e-4f79-edfc-411585d8314c"
      },
      "execution_count": 97,
      "outputs": [
        {
          "output_type": "stream",
          "name": "stdout",
          "text": [
            "venus is the second and the hottest planet\n",
            "It's the hottest planet in our solar system, and is sometimes called Earth's twin.\n"
          ]
        }
      ]
    },
    {
      "cell_type": "code",
      "source": [
        "# EARTH DATA TYPES\n",
        "\n",
        "# STRING\n",
        "EARTH = \"our home planet is the third planet from the Sun, and the fifth largest planet. It's the only place we know of inhabited by living things.\"\n",
        "print(EARTH)\n",
        "\n",
        "# INTEGER\n",
        "Equatorial_diameter = 7926\n",
        "print(Equatorial_diameter)\n",
        "\n",
        "# FLOAT\n",
        "one_rotation = 23.9\n",
        "print(one_rotation)\n",
        "\n",
        "# BOOLEAN\n",
        "does_Earth_has_moon = True\n",
        "print(does_Earth_has_moon)\n",
        "\n",
        "type(EARTH)\n",
        "type(Equatorial_diameter)\n",
        "type(one_rotation)\n",
        "type(does_Earth_has_moon)\n"
      ],
      "metadata": {
        "colab": {
          "base_uri": "https://localhost:8080/"
        },
        "id": "xa_giZ6BRs2e",
        "outputId": "50338a93-577e-4096-d276-dbcabec9cb0d"
      },
      "execution_count": 83,
      "outputs": [
        {
          "output_type": "stream",
          "name": "stdout",
          "text": [
            "our home planet is the third planet from the Sun, and the fifth largest planet. It's the only place we know of inhabited by living things.\n",
            "7926\n",
            "23.9\n",
            "True\n"
          ]
        },
        {
          "output_type": "execute_result",
          "data": {
            "text/plain": [
              "bool"
            ]
          },
          "metadata": {},
          "execution_count": 83
        }
      ]
    },
    {
      "cell_type": "code",
      "source": [
        "# EARTH INPUT AND TYPE CASTING\n",
        "\n",
        "#STRING\n",
        "Earth_planet = input(\"Enter the name of the planet: \")\n",
        "\n",
        "# INTEGER\n",
        "EQ_D_earth = int(input(\"enter the earth equatorial diameter: \"))\n",
        "\n",
        "# FLOAT\n",
        "ASU_earth = float(input(\"enter the earth astronomical unit: \"))\n",
        "\n",
        "# BOOLEAN\n",
        "earth_moon = bool(input(\"does earth has a moon? \"))\n",
        "\n",
        "print(Earth_planet)\n",
        "print(EQ_D_earth)\n",
        "print(ASU_earth)\n",
        "print(earth_moon)"
      ],
      "metadata": {
        "colab": {
          "base_uri": "https://localhost:8080/"
        },
        "id": "7MZeA-pyRs4c",
        "outputId": "d4ffaaf9-8d8d-4edc-8b8f-f9c86af31539"
      },
      "execution_count": 41,
      "outputs": [
        {
          "output_type": "stream",
          "name": "stdout",
          "text": [
            "Enter the name of the planet: Earth\n",
            "enter the earth equatorial diameter: 7926\n",
            "enter the earth astronomical unit: 1.0\n",
            "does earth has a moon? True\n",
            "Earth\n",
            "7926\n",
            "1.0\n",
            "True\n"
          ]
        }
      ]
    },
    {
      "cell_type": "code",
      "source": [
        "# EARTH OPERATORS\n",
        "\n",
        "# ARITHEMATIC OPERATORS\n",
        "Earth_radius = 6371\n",
        "Earth_orbit_radius = 365\n",
        "\n",
        "Earth_diameter = Earth_radius * 2\n",
        "Earth_half_orbit = Earth_orbit_radius / 2\n",
        "Earth_add_orbit = Earth_orbit_radius + 10\n",
        "Earth_sub_orbit = Earth_orbit_radius - 10\n",
        "\n",
        "print(Earth_diameter)\n",
        "print(Earth_half_orbit)\n",
        "print(Earth_add_orbit)\n",
        "print(Earth_sub_orbit)\n",
        "\n",
        "# ASSIGNMENT OPERATORS\n",
        "Earth_inner_temp = 5400\n",
        "Earth_inner_temp_add = 20\n",
        "Earth_inner_temp_sub = 20\n",
        "Earth_inner_temp_mul = 2\n",
        "Earth_inner_temp_div = 2\n",
        "\n",
        "Earth_inner_temp_add += 20\n",
        "Earth_inner_temp_sub -= 20\n",
        "Earth_inner_temp_mul *= 2\n",
        "Earth_inner_temp_div /= 2\n",
        "\n",
        "print(Earth_inner_temp)\n",
        "print(Earth_inner_temp_add)\n",
        "print(Earth_inner_temp_sub)\n",
        "print(Earth_inner_temp_mul)\n",
        "print(Earth_inner_temp_div)\n",
        "\n",
        "# COMPARISON OPERATORS\n",
        "Earth_days_orbit = 365\n",
        "Earth_days_guess = 360\n",
        "\n",
        "print(Earth_days_orbit == Earth_days_guess)\n",
        "print(Earth_days_orbit != Earth_days_guess)\n",
        "print(Earth_days_orbit > Earth_days_guess)\n",
        "print(Earth_days_orbit < Earth_days_guess)\n",
        "print(Earth_days_orbit >= Earth_days_guess)\n",
        "print(Earth_days_orbit <= Earth_days_guess)\n",
        "\n",
        "# LOGICAL OPERATORS\n",
        "earth_has_rings = \"False\"\n",
        "life_on_earth = \"True\"\n",
        "print(earth_has_rings and life_on_earth)\n",
        "print(earth_has_rings or life_on_earth)\n",
        "print(not(life_on_earth))\n",
        "print(not(earth_has_rings))"
      ],
      "metadata": {
        "colab": {
          "base_uri": "https://localhost:8080/"
        },
        "id": "eJcHYkFVRs6_",
        "outputId": "ede30497-e03c-4db3-f68b-33433bf533c6"
      },
      "execution_count": 84,
      "outputs": [
        {
          "output_type": "stream",
          "name": "stdout",
          "text": [
            "12742\n",
            "182.5\n",
            "375\n",
            "355\n",
            "5400\n",
            "40\n",
            "0\n",
            "4\n",
            "1.0\n",
            "False\n",
            "True\n",
            "True\n",
            "False\n",
            "True\n",
            "False\n",
            "True\n",
            "False\n",
            "False\n",
            "False\n"
          ]
        }
      ]
    },
    {
      "cell_type": "code",
      "source": [
        "# EARTH AND CONDITIONS\n",
        "EARTH_RADIUS = 6371\n",
        "if EARTH_RADIUS == 6371:\n",
        "  print(\"it matches the known measurement\")\n",
        "else:\n",
        "  print(\"it does not\")\n",
        "\n",
        "EARTH_TILT = 21.5\n",
        "if EARTH_TILT > 23.5:\n",
        "  print(\"Earth has larger axial tilt\")\n",
        "elif EARTH_TILT == 23.5:\n",
        "  print(\"it has standard axial tilt\")\n",
        "else:\n",
        "  print(\"it has smaller axial tilt\")\n"
      ],
      "metadata": {
        "colab": {
          "base_uri": "https://localhost:8080/"
        },
        "id": "mZp6NnzT2rxQ",
        "outputId": "cc48b603-7524-4318-bb05-d508c61099ee"
      },
      "execution_count": 45,
      "outputs": [
        {
          "output_type": "stream",
          "name": "stdout",
          "text": [
            "it matches the known measurement\n",
            "it has smaller axial tilt\n"
          ]
        }
      ]
    },
    {
      "cell_type": "code",
      "source": [
        "# EARTH AND LOOPS\n",
        "\n",
        "# FOR LOOPS\n",
        "for i in range(3):\n",
        "  print(\"Earth completes one rotation in 24 hours\")\n",
        "\n",
        "name = \"Earth\"\n",
        "for x in range(3):\n",
        "  print(name)\n",
        "\n",
        "# WHILE LOOPS\n",
        "count = 0\n",
        "while count < 2:\n",
        "  count +=1\n",
        "  print(\"earth completes a day\")\n",
        "\n",
        "hours = 24\n",
        "while hours >0:\n",
        "  hours -=1\n",
        "  print(hours)\n"
      ],
      "metadata": {
        "colab": {
          "base_uri": "https://localhost:8080/"
        },
        "id": "LYYNFqWlQfXA",
        "outputId": "898b615c-7cc6-4eea-edcf-a8b8d0b84046"
      },
      "execution_count": 46,
      "outputs": [
        {
          "output_type": "stream",
          "name": "stdout",
          "text": [
            "Earth completes one rotation in 24 hours\n",
            "Earth completes one rotation in 24 hours\n",
            "Earth completes one rotation in 24 hours\n",
            "Earth\n",
            "Earth\n",
            "Earth\n",
            "earth completes a day\n",
            "earth completes a day\n",
            "23\n",
            "22\n",
            "21\n",
            "20\n",
            "19\n",
            "18\n",
            "17\n",
            "16\n",
            "15\n",
            "14\n",
            "13\n",
            "12\n",
            "11\n",
            "10\n",
            "9\n",
            "8\n",
            "7\n",
            "6\n",
            "5\n",
            "4\n",
            "3\n",
            "2\n",
            "1\n",
            "0\n"
          ]
        }
      ]
    },
    {
      "cell_type": "code",
      "source": [
        "# EARTH AND FUNCTIONS\n",
        "def earth_planet():\n",
        "  print(\"Earth is the only planet where survival is possible\")\n",
        "earth_planet()\n",
        "\n",
        "def earth_moon():\n",
        "  print(\"earth has its own moon\")\n",
        "earth_moon()"
      ],
      "metadata": {
        "colab": {
          "base_uri": "https://localhost:8080/"
        },
        "id": "MOiQ983KQgDQ",
        "outputId": "0774dc31-68cc-40fc-c85e-0021edcc24bd"
      },
      "execution_count": 47,
      "outputs": [
        {
          "output_type": "stream",
          "name": "stdout",
          "text": [
            "Earth is the only planet where survival is possible\n",
            "earth has its own moon\n"
          ]
        }
      ]
    },
    {
      "cell_type": "code",
      "source": [
        "# MARS AND DATA TYPES\n",
        "\n",
        "# STRING\n",
        "MARS = \"Mars, the fourth planet from the Sun,its a dusty, cold, desert world with a very thin atmosphere.\"\n",
        "print(MARS)\n",
        "\n",
        "# INTEGER\n",
        "Mars_radius = 2106\n",
        "print(Mars_radius)\n",
        "\n",
        "# FLOAT\n",
        "Mars_AU = 1.5\n",
        "print(Mars_AU)\n",
        "\n",
        "#BOOLEAN\n",
        "does_mars_has_two_moons = \"True\"\n",
        "print(does_mars_has_two_moons)\n",
        "\n",
        "type(MARS)\n",
        "type(Mars_radius)\n",
        "type(Mars_AU)\n",
        "type(does_mars_has_two_moons)"
      ],
      "metadata": {
        "colab": {
          "base_uri": "https://localhost:8080/"
        },
        "id": "kkOQGlMvRs9S",
        "outputId": "d390d8e8-2c15-4afb-e829-41f359936ab2"
      },
      "execution_count": 85,
      "outputs": [
        {
          "output_type": "stream",
          "name": "stdout",
          "text": [
            "Mars, the fourth planet from the Sun,its a dusty, cold, desert world with a very thin atmosphere.\n",
            "2106\n",
            "1.5\n",
            "True\n"
          ]
        },
        {
          "output_type": "execute_result",
          "data": {
            "text/plain": [
              "str"
            ]
          },
          "metadata": {},
          "execution_count": 85
        }
      ]
    },
    {
      "cell_type": "code",
      "source": [
        "# MARS INPUT AND TYPE CASTING\n",
        "\n",
        "# STRING\n",
        "MARS_Planet = input(\"Enter the name of the planet: \")\n",
        "print(MARS_Planet)\n",
        "\n",
        "# FLOAT\n",
        "Mars_AU = float(input(\"Enter the AU of the planet: \"))\n",
        "print(Mars_AU)\n",
        "\n",
        "# INTEGER\n",
        "Mars_Radius = int(input(\"Enter the radius of the planet: \"))\n",
        "print(Mars_Radius)\n",
        "\n",
        "# BOOLEAN\n",
        "does_mars_has_two_moons = bool(input(\"does mars has two moons? \"))\n",
        "print(does_mars_has_two_moons)"
      ],
      "metadata": {
        "colab": {
          "base_uri": "https://localhost:8080/"
        },
        "id": "Sqy3q1ocRs_z",
        "outputId": "0b204ceb-d1e6-4b73-fa52-c16d34735863"
      },
      "execution_count": 86,
      "outputs": [
        {
          "output_type": "stream",
          "name": "stdout",
          "text": [
            "Enter the name of the planet: MARS\n",
            "MARS\n",
            "Enter the AU of the planet: 1.5\n",
            "1.5\n",
            "Enter the radius of the planet: 2106\n",
            "2106\n",
            "does mars has two moons? True\n",
            "True\n"
          ]
        }
      ]
    },
    {
      "cell_type": "code",
      "source": [
        "# MARS AND OPERATIONS\n",
        "\n",
        "# ARITHEMATIC OPERATORS\n",
        "mars_radius = 3389.5\n",
        "mars_orbit_days = 687\n",
        "\n",
        "MARS_DIAMETER = mars_radius * 2\n",
        "MARS_HALF_ORBIT = mars_orbit_days / 2\n",
        "MARS_ADD_ORBIT = mars_orbit_days + 10\n",
        "MARS_SUB_ORBIT = mars_orbit_days - 10\n",
        "\n",
        "print(MARS_DIAMETER)\n",
        "print(MARS_HALF_ORBIT)\n",
        "print(MARS_ADD_ORBIT)\n",
        "print(MARS_SUB_ORBIT)\n",
        "\n",
        "# ASSIGNMENT OPERATORS\n",
        "MARS_TEMP = 20\n",
        "MARS_TEMP_ADD = 20\n",
        "MARS_TEMP_SUB = 5\n",
        "MARS_TEMP_MUL = 5\n",
        "MARS_TEMP_DIV = 5\n",
        "\n",
        "MARS_TEMP_ADD += 20\n",
        "MARS_TEMP_SUB -= 5\n",
        "MARS_TEMP_MUL *= 5\n",
        "MARS_TEMP_DIV /= 5\n",
        "\n",
        "print(MARS_TEMP)\n",
        "print(MARS_TEMP_ADD)\n",
        "print(MARS_TEMP_SUB)\n",
        "print(MARS_TEMP_MUL)\n",
        "print(MARS_TEMP_DIV)\n",
        "\n",
        "# COMPARISON OPERATORS\n",
        "mars_radius = 3389.5\n",
        "earth_radius = 6371\n",
        "print(mars_radius == earth_radius)\n",
        "print(mars_radius != earth_radius)\n",
        "print(mars_radius > earth_radius)\n",
        "print(mars_radius < earth_radius)\n",
        "print(mars_radius >= earth_radius)\n",
        "print(mars_radius <= earth_radius)\n",
        "\n",
        "# LOGICAL OPERATORS\n",
        "MARS_RINGS = \"False\"\n",
        "MARS_MOONS = \"True\"\n",
        "print(MARS_RINGS and MARS_MOONS)\n",
        "print(MARS_RINGS or MARS_MOONS)\n",
        "print(not(MARS_RINGS))\n",
        "print(not(MARS_MOONS))\n"
      ],
      "metadata": {
        "colab": {
          "base_uri": "https://localhost:8080/"
        },
        "id": "bgf-pW39RtCu",
        "outputId": "55c2a532-f251-4418-ebf0-511e0ebd95b6"
      },
      "execution_count": 52,
      "outputs": [
        {
          "output_type": "stream",
          "name": "stdout",
          "text": [
            "6779.0\n",
            "343.5\n",
            "697\n",
            "677\n",
            "20\n",
            "40\n",
            "0\n",
            "25\n",
            "1.0\n",
            "False\n",
            "True\n",
            "False\n",
            "True\n",
            "False\n",
            "True\n",
            "True\n",
            "False\n",
            "False\n",
            "False\n"
          ]
        }
      ]
    },
    {
      "cell_type": "code",
      "source": [
        "# MARS AND CONDITIONS\n",
        "Mars_moons = 1\n",
        "if Mars_moons > 1:\n",
        "  print(\"mars has multiple moons\")\n",
        "else:\n",
        "  print(\"it has one moon or no moon\")\n",
        "\n",
        "mars_temp = -60  # in Celsius\n",
        "earth_temp = 15  # in Celsius\n",
        "if mars_temp < earth_temp:\n",
        "    print(\"Mars is colder than Earth.\")\n",
        "elif mars_temp == earth_temp:\n",
        "    print(\"Mars and Earth have similar temperatures.\")\n",
        "else:\n",
        "    print(\"Mars is warmer than Earth.\")"
      ],
      "metadata": {
        "colab": {
          "base_uri": "https://localhost:8080/"
        },
        "id": "o20ujunf3HmN",
        "outputId": "1aea4cce-cc30-4128-9638-43d8fcc50d68"
      },
      "execution_count": 53,
      "outputs": [
        {
          "output_type": "stream",
          "name": "stdout",
          "text": [
            "it has one moon or no moon\n",
            "Mars is colder than Earth.\n"
          ]
        }
      ]
    },
    {
      "cell_type": "code",
      "source": [
        "# MARS AND LOOPS\n",
        "\n",
        "# FOR LOOPS\n",
        "future_prediction = \"life on mars\"\n",
        "for x in range(3):\n",
        "  print(future_prediction)\n",
        "\n",
        "for x in range(5):\n",
        "  print(\"mars\")\n",
        "\n",
        "# WHILE LOOPS\n",
        "count = 0\n",
        "while count < 4:\n",
        "    print(\"Mars completes part of its orbit.\")\n",
        "    count += 1\n"
      ],
      "metadata": {
        "colab": {
          "base_uri": "https://localhost:8080/"
        },
        "id": "CBAlT3JgRnkF",
        "outputId": "defff3e9-395a-4415-b1ba-5ddfdc83fe80"
      },
      "execution_count": 54,
      "outputs": [
        {
          "output_type": "stream",
          "name": "stdout",
          "text": [
            "life on mars\n",
            "life on mars\n",
            "life on mars\n",
            "mars\n",
            "mars\n",
            "mars\n",
            "mars\n",
            "mars\n",
            "Mars completes part of its orbit.\n",
            "Mars completes part of its orbit.\n",
            "Mars completes part of its orbit.\n",
            "Mars completes part of its orbit.\n"
          ]
        }
      ]
    },
    {
      "cell_type": "code",
      "source": [
        "# MARS AND FUNCTIONS\n",
        "def mars_mystery():\n",
        "  print(\"Mars can be a survival planet in the near future\")\n",
        "mars_mystery()\n",
        "\n",
        "def mars_characteristics():\n",
        "  print(\"This dynamic planet has seasons, polar ice caps, extinct volcanoes, canyons and weather.\")\n",
        "mars_characteristics()"
      ],
      "metadata": {
        "colab": {
          "base_uri": "https://localhost:8080/"
        },
        "id": "0rmJYnxGRnnk",
        "outputId": "fab0e0d9-0718-45a9-bbd3-c771c2cf763b"
      },
      "execution_count": 95,
      "outputs": [
        {
          "output_type": "stream",
          "name": "stdout",
          "text": [
            "Mars can be a survival planet in the near future\n",
            "This dynamic planet has seasons, polar ice caps, extinct volcanoes, canyons and weather.\n"
          ]
        }
      ]
    },
    {
      "cell_type": "code",
      "source": [
        "# OUTER PLANETS"
      ],
      "metadata": {
        "id": "CjiUTOzrRtEx"
      },
      "execution_count": 56,
      "outputs": []
    },
    {
      "cell_type": "code",
      "source": [
        "# JUPITER DATA TYPES\n",
        "\n",
        "# STRING\n",
        "JUPITER = \"Jupiter is a world of extremes. It's the largest planet in our solar system, if it were a hollow shell, 1,000 Earths could fit inside\"\n",
        "print(JUPITER)\n",
        "\n",
        "# INTEGER\n",
        "J_AVG_DIS=484\n",
        "print(J_AVG_DIS)\n",
        "\n",
        "# FLOAT\n",
        "J_AU=5.2\n",
        "print(J_AU)\n",
        "\n",
        "# BOOLEAN\n",
        "J_rings = True\n",
        "print(J_rings)"
      ],
      "metadata": {
        "colab": {
          "base_uri": "https://localhost:8080/"
        },
        "id": "UpyIJ31aRtHx",
        "outputId": "af122357-2b0a-4ddb-ea87-9d433ba3dc72"
      },
      "execution_count": 87,
      "outputs": [
        {
          "output_type": "stream",
          "name": "stdout",
          "text": [
            "Jupiter is a world of extremes. It's the largest planet in our solar system, if it were a hollow shell, 1,000 Earths could fit inside\n",
            "484\n",
            "5.2\n",
            "True\n"
          ]
        }
      ]
    },
    {
      "cell_type": "code",
      "source": [
        "# JUPITER INPUT AND TYPE CASTING\n",
        "\n",
        "# STRING\n",
        "jupiter_planet = input(\"Enter the name of the planet: \")\n",
        "print(jupiter_planet)\n",
        "\n",
        "# INTEGER\n",
        "jupiter_dis = int(input(\"Enter the Avg distance of the planet: \"))\n",
        "print(jupiter_dis)\n",
        "\n",
        "# FLOAT\n",
        "jupiter_AU = float(input(\"Enter the AU of the planet: \"))\n",
        "print(jupiter_AU)\n",
        "\n",
        "# BOOLEAN\n",
        "jupiter_rings = bool(input(\"does jupiter has rings? \"))\n",
        "print(jupiter_rings)"
      ],
      "metadata": {
        "colab": {
          "base_uri": "https://localhost:8080/"
        },
        "id": "vbS1BT99oMpk",
        "outputId": "3658d3dc-e409-4b2b-f38b-a32bfc66426f"
      },
      "execution_count": 88,
      "outputs": [
        {
          "output_type": "stream",
          "name": "stdout",
          "text": [
            "Enter the name of the planet: JUPITER'\n",
            "JUPITER'\n",
            "Enter the Avg distance of the planet: 484\n",
            "484\n",
            "Enter the AU of the planet: 5.2\n",
            "5.2\n",
            "does jupiter has rings? true\n",
            "True\n"
          ]
        }
      ]
    },
    {
      "cell_type": "code",
      "source": [
        "# JUPITER AND OPERATIONS\n",
        "\n",
        "# ARITHMETIC OPERATORS\n",
        "jupiter_radius = 69911\n",
        "jupiter_orbit_days = 4333\n",
        "\n",
        "diameter_J = jupiter_radius * 2  # Multiplication\n",
        "half_orbit = jupiter_orbit_days / 2  # Division\n",
        "increased_orbit = jupiter_orbit_days + 100  # Addition\n",
        "reduced_orbit = jupiter_orbit_days - 100\n",
        "\n",
        "print(diameter_J)\n",
        "print(half_orbit)\n",
        "print(increased_orbit)\n",
        "print(reduced_orbit)\n",
        "\n",
        "# ASSIGNMENT OPERATORS\n",
        "jupiter_avg_temp = -145  # in Celsius\n",
        "\n",
        "jupiter_avg_Add_temp = 10\n",
        "jupiter_avg_Sub_temp = 5\n",
        "jupiter_avg_Mul_temp = 2\n",
        "jupiter_avg_div_temp = 2\n",
        "\n",
        "jupiter_avg_Add_temp += 10  # Increase by 10\n",
        "jupiter_avg_Sub_temp -= 5  # Decrease by 5\n",
        "jupiter_avg_Mul_temp *= 2  # Double the temperature\n",
        "jupiter_avg_div_temp /= 2  # Half the temperature\n",
        "\n",
        "print(jupiter_avg_Add_temp)\n",
        "print(jupiter_avg_Sub_temp)\n",
        "print(jupiter_avg_Mul_temp)\n",
        "print(jupiter_avg_div_temp)\n",
        "\n",
        "# COMPARISON OPERATORS\n",
        "jupiter_radius = 69911  # in km\n",
        "earth_radius = 6371\n",
        "print(jupiter_radius == earth_radius)\n",
        "print(jupiter_radius != earth_radius)\n",
        "print(jupiter_radius > earth_radius)\n",
        "print(jupiter_radius < earth_radius)\n",
        "print(jupiter_radius >= earth_radius)\n",
        "print(jupiter_radius <= earth_radius)\n",
        "\n",
        "# LOGICAL OPERATORS\n",
        "J_moons = True\n",
        "J_rings = True\n",
        "print(J_moons and J_rings)\n",
        "print(J_moons or J_rings)\n",
        "print(not(J_moons))\n",
        "print(not(J_rings))"
      ],
      "metadata": {
        "colab": {
          "base_uri": "https://localhost:8080/"
        },
        "id": "bT_Lq-_qRtKR",
        "outputId": "67730227-833d-4a00-ce51-a691024baa3d"
      },
      "execution_count": 60,
      "outputs": [
        {
          "output_type": "stream",
          "name": "stdout",
          "text": [
            "139822\n",
            "2166.5\n",
            "4433\n",
            "4233\n",
            "20\n",
            "0\n",
            "4\n",
            "1.0\n",
            "False\n",
            "True\n",
            "True\n",
            "False\n",
            "True\n",
            "False\n",
            "True\n",
            "True\n",
            "False\n",
            "False\n"
          ]
        }
      ]
    },
    {
      "cell_type": "code",
      "source": [
        "# JUPITER AND CONDITIONS\n",
        "jupiter_diameter = 139821\n",
        "if jupiter_diameter > 139820:\n",
        "  print(\"jupiter is the largest planet\")\n",
        "else:\n",
        "  print(\"jupiter is not the largest planet\")\n",
        "\n",
        "jupiter_diameter = 139819  # in km\n",
        "if jupiter_diameter > 140000:\n",
        "    print(\"Jupiter's diameter is extremely large.\")\n",
        "elif jupiter_diameter == 139820:\n",
        "    print(\"Jupiter's diameter is exactly 139,820 km.\")\n",
        "else:\n",
        "    print(\"Jupiter's diameter is smaller than expected.\")"
      ],
      "metadata": {
        "colab": {
          "base_uri": "https://localhost:8080/"
        },
        "id": "uHKLKMcF4RL6",
        "outputId": "8d26219d-bdd3-48a6-9693-bf89a1da56c7"
      },
      "execution_count": 61,
      "outputs": [
        {
          "output_type": "stream",
          "name": "stdout",
          "text": [
            "jupiter is the largest planet\n",
            "Jupiter's diameter is smaller than expected.\n"
          ]
        }
      ]
    },
    {
      "cell_type": "code",
      "source": [
        "# JUPITER AND LOOPS\n",
        "\n",
        "# FOR LOOPS\n",
        "for x in range(5):\n",
        "  print(\"jupiter is the largest planet\")\n",
        "jupiter_radius = \"large radius than other planets\"\n",
        "for x in range(4):\n",
        "  print(jupiter_radius)\n",
        "\n",
        "# WHILE LOOPS\n",
        "count = 0\n",
        "while count < 5:\n",
        "  count += 1\n",
        "  print(\"jupiter is the largest planet\")\n",
        "\n",
        "rings = 5\n",
        "while rings > 0:\n",
        "  rings -= 1\n",
        "  print(\"5 rings\")"
      ],
      "metadata": {
        "colab": {
          "base_uri": "https://localhost:8080/"
        },
        "id": "GjXdkhS-THO_",
        "outputId": "e481eb7d-539c-45cb-f664-809ea7f0b65b"
      },
      "execution_count": 62,
      "outputs": [
        {
          "output_type": "stream",
          "name": "stdout",
          "text": [
            "jupiter is the largest planet\n",
            "jupiter is the largest planet\n",
            "jupiter is the largest planet\n",
            "jupiter is the largest planet\n",
            "jupiter is the largest planet\n",
            "large radius than other planets\n",
            "large radius than other planets\n",
            "large radius than other planets\n",
            "large radius than other planets\n",
            "jupiter is the largest planet\n",
            "jupiter is the largest planet\n",
            "jupiter is the largest planet\n",
            "jupiter is the largest planet\n",
            "jupiter is the largest planet\n",
            "5 rings\n",
            "5 rings\n",
            "5 rings\n",
            "5 rings\n",
            "5 rings\n"
          ]
        }
      ]
    },
    {
      "cell_type": "code",
      "source": [
        "# JUPITER AND FUCNTIONS\n",
        "def jupiter_planet():\n",
        "  print(\"Jupiter is the largest planet\")\n",
        "jupiter_planet()\n",
        "\n",
        "def jupiter_moons():\n",
        "  print(\"jupiter has 4 large moons\")\n",
        "jupiter_moons()"
      ],
      "metadata": {
        "colab": {
          "base_uri": "https://localhost:8080/"
        },
        "id": "tgTotpKYTHjK",
        "outputId": "a5813769-a920-4635-d087-b3ddb6521e46"
      },
      "execution_count": 89,
      "outputs": [
        {
          "output_type": "stream",
          "name": "stdout",
          "text": [
            "Jupiter is the largest planet\n",
            "jupiter has 4 large moons\n"
          ]
        }
      ]
    },
    {
      "cell_type": "code",
      "source": [
        "# SATURN DATA TYPES\n",
        "\n",
        "#STRING\n",
        "SATURN = \"Saturn is the sixth planet from the Sun, and the second-largest planet in our solar system.\"\n",
        "print(SATURN)\n",
        "\n",
        "# INTEGER\n",
        "EQ_DIAMETER_J = 74,897\n",
        "print(EQ_DIAMETER_J)\n",
        "\n",
        "# FLOAT\n",
        "Saturn_AU = 9.5\n",
        "print(Saturn_AU)\n",
        "\n",
        "# BOOLEAN\n",
        "Saturn_moons = True\n",
        "print(Saturn_moons)"
      ],
      "metadata": {
        "colab": {
          "base_uri": "https://localhost:8080/"
        },
        "id": "GaRETYZQRtMK",
        "outputId": "9d89811d-62f1-4fc6-8278-f84a358d6675"
      },
      "execution_count": 64,
      "outputs": [
        {
          "output_type": "stream",
          "name": "stdout",
          "text": [
            "Saturn is the sixth planet from the Sun, and the second-largest planet in our solar system.\n",
            "(74, 897)\n",
            "9.5\n",
            "True\n"
          ]
        }
      ]
    },
    {
      "cell_type": "code",
      "source": [
        "# SATURN INPUT AND TYPE CASTING\n",
        "\n",
        "#STRING\n",
        "saturn_planet = input(\"Enter the name of the planet: \")\n",
        "print(saturn_planet)\n",
        "\n",
        "# FLOAT\n",
        "saturn_AU = float(input(\"Enter the AU of the planet: \"))\n",
        "print(saturn_AU)\n",
        "\n",
        "# INTEGER\n",
        "saturn_Diam = int(input(\"Enter the diameter of the planet: \"))\n",
        "print(saturn_Diam)\n",
        "\n",
        "# BOOLEAN\n",
        "saturn_moons = bool(input(\"does saturn has moons? \"))\n",
        "print(saturn_moons)"
      ],
      "metadata": {
        "colab": {
          "base_uri": "https://localhost:8080/"
        },
        "id": "mbWajTriRtOh",
        "outputId": "c16f51df-e92c-46d0-d069-59e4a8abf67f"
      },
      "execution_count": 65,
      "outputs": [
        {
          "output_type": "stream",
          "name": "stdout",
          "text": [
            "Enter the name of the planet: Saturn\n",
            "Saturn\n",
            "Enter the AU of the planet: 9.5\n",
            "9.5\n",
            "Enter the diameter of the planet: 74897\n",
            "74897\n",
            "does saturn has moons? True\n",
            "True\n"
          ]
        }
      ]
    },
    {
      "cell_type": "code",
      "source": [
        "# SATURN AND OPERARIONS\n",
        "\n",
        "# ARITHEMATIC OPERATORS\n",
        "saturn_radius = 58232\n",
        "saturn_orbit_days = 10759\n",
        "\n",
        "diameter_saturn = saturn_radius * 2  # Multiplication\n",
        "half_orbit = saturn_orbit_days / 2  # Division\n",
        "increased_orbit = saturn_orbit_days + 100  # Addition\n",
        "reduced_orbit = saturn_orbit_days - 100\n",
        "\n",
        "print(diameter_saturn)\n",
        "print(half_orbit)\n",
        "print(increased_orbit)\n",
        "print(reduced_orbit)\n",
        "\n",
        "# ASSIGNMENT OPERATORS\n",
        "saturn_avg_temp = -178  # in Celsius\n",
        "saturn_avg_Add_temp = 10\n",
        "saturn_avg_Sub_temp = 5\n",
        "saturn_avg_Mul_temp = 2\n",
        "saturn_avg_Div_temp = 2\n",
        "\n",
        "\n",
        "saturn_avg_Add_temp += 10  # Increase by 10\n",
        "saturn_avg_Sub_temp -= 5  # Decrease by 5\n",
        "saturn_avg_Mul_temp *= 2  # Double the temperature\n",
        "saturn_avg_Div_temp /= 2  # Halve the temperature\n",
        "\n",
        "print(saturn_avg_temp)\n",
        "print(saturn_avg_Add_temp)\n",
        "print(saturn_avg_Sub_temp)\n",
        "print(saturn_avg_Mul_temp)\n",
        "print(saturn_avg_Div_temp)\n",
        "\n",
        "# COMPARISON OPERATORS\n",
        "saturn_radius = 58232  # in km\n",
        "earth_radius = 6371\n",
        "print(saturn_radius == earth_radius)\n",
        "print(saturn_radius != earth_radius)\n",
        "print(saturn_radius > earth_radius)\n",
        "print(saturn_radius < earth_radius)\n",
        "print(saturn_radius >= earth_radius)\n",
        "print(saturn_radius <= earth_radius)\n",
        "\n",
        "# LOGICAL OPERATORS\n",
        "saturn_moons = True\n",
        "saturn_rings = True\n",
        "print(saturn_moons and saturn_rings)\n",
        "print(saturn_moons or saturn_rings)\n",
        "print(not(saturn_moons))\n",
        "print(not(saturn_rings))"
      ],
      "metadata": {
        "colab": {
          "base_uri": "https://localhost:8080/"
        },
        "id": "AV4OSWDzRtQz",
        "outputId": "859e4358-f22e-4f7c-ec0d-c8e6ded3e0be"
      },
      "execution_count": 68,
      "outputs": [
        {
          "output_type": "stream",
          "name": "stdout",
          "text": [
            "116464\n",
            "5379.5\n",
            "10859\n",
            "10659\n",
            "-178\n",
            "20\n",
            "0\n",
            "4\n",
            "1.0\n",
            "False\n",
            "True\n",
            "True\n",
            "False\n",
            "True\n",
            "False\n",
            "True\n",
            "True\n",
            "False\n",
            "False\n"
          ]
        }
      ]
    },
    {
      "cell_type": "code",
      "source": [
        "# SATURN AND CONDITIONS\n",
        "saturn_radius = 60268\n",
        "if saturn_radius > 58000:\n",
        "  print(\"saturn's radius is larger than earth's radius\")\n",
        "else:\n",
        "  print(\"it is not larger than earth\")\n",
        "\n",
        "saturn_moons = 79\n",
        "jupiter_moons = 79\n",
        "if saturn_moons > jupiter_moons:\n",
        "  print(\"saturn has more moons than jupiter\")\n",
        "elif saturn_moons == jupiter_moons:\n",
        "  print(\"they both have same moons\")\n",
        "else:\n",
        "  print(\"saturn has less moons\")"
      ],
      "metadata": {
        "colab": {
          "base_uri": "https://localhost:8080/"
        },
        "id": "L-rWk3u55ROq",
        "outputId": "2b09ac78-cd75-4fa7-f2cb-d070235de74e"
      },
      "execution_count": 69,
      "outputs": [
        {
          "output_type": "stream",
          "name": "stdout",
          "text": [
            "saturn's radius is larger than earth's radius\n",
            "they both have same moons\n"
          ]
        }
      ]
    },
    {
      "cell_type": "code",
      "source": [
        "# SATURN AND LOOPS\n",
        "\n",
        "# FOR LOOPS\n",
        "for x in range(2):\n",
        "  print(\"saturn\")\n",
        "saturn_moon = \"yes\"\n",
        "for x in range(3):\n",
        "  print(saturn_moon)\n",
        "\n",
        "# WHILE LOOPS\n",
        "i = 0\n",
        "while i < 5:\n",
        "  i += 1\n",
        "  print(\"saturn has 82 moons\")"
      ],
      "metadata": {
        "colab": {
          "base_uri": "https://localhost:8080/"
        },
        "id": "6AMrZKxwVg1s",
        "outputId": "01cc8e7f-af66-475d-e584-acdaed172ce3"
      },
      "execution_count": 70,
      "outputs": [
        {
          "output_type": "stream",
          "name": "stdout",
          "text": [
            "saturn\n",
            "saturn\n",
            "yes\n",
            "yes\n",
            "yes\n",
            "saturn has 82 moons\n",
            "saturn has 82 moons\n",
            "saturn has 82 moons\n",
            "saturn has 82 moons\n",
            "saturn has 82 moons\n"
          ]
        }
      ]
    },
    {
      "cell_type": "code",
      "source": [
        "# SATURN AND FUNCTIONS\n",
        "def saturn_planet():\n",
        "  print(\"saturn has a ring around the planet\")\n",
        "saturn_planet()\n",
        "\n",
        "def saturn_moons():\n",
        "  print(\"saturn has 82 moons\")\n",
        "saturn_moons()"
      ],
      "metadata": {
        "colab": {
          "base_uri": "https://localhost:8080/"
        },
        "id": "xdsxtJvWVg5f",
        "outputId": "05dbbba5-0378-4bbf-fce8-399e8253f91d"
      },
      "execution_count": 71,
      "outputs": [
        {
          "output_type": "stream",
          "name": "stdout",
          "text": [
            "saturn has a ring around the planet\n",
            "saturn has 82 moons\n"
          ]
        }
      ]
    },
    {
      "cell_type": "code",
      "source": [
        "# URANUS AND DATA TYPES\n",
        "\n",
        "# STRING\n",
        "URANUS = \"Uranus is the seventh planet from the Sun, and it has the third largest diameter of planets in our solar system\"\n",
        "print(URANUS)\n",
        "\n",
        "# INTEGER\n",
        "URANUS_AVG_DIS = 192\n",
        "print(URANUS_AVG_DIS)\n",
        "\n",
        "# FLOAT\n",
        "URANUS_AU = 19.0\n",
        "print(URANUS_AU)\n",
        "\n",
        "# BOOLEAN\n",
        "URANUS_MOONS = True\n",
        "print(URANUS_MOONS)"
      ],
      "metadata": {
        "colab": {
          "base_uri": "https://localhost:8080/"
        },
        "id": "Ms8QyBldRtTF",
        "outputId": "a9b30a21-e16c-4f49-d149-675b8e3f8243"
      },
      "execution_count": 91,
      "outputs": [
        {
          "output_type": "stream",
          "name": "stdout",
          "text": [
            "Uranus is the seventh planet from the Sun, and it has the third largest diameter of planets in our solar system\n",
            "192\n",
            "19.0\n",
            "True\n"
          ]
        }
      ]
    },
    {
      "cell_type": "code",
      "source": [
        "# URANUS INPUT AND TYPE CASTING\n",
        "\n",
        "#STRING\n",
        "uranus_planet = input(\"Enter the name of the planet that has the third largest diameter: \")\n",
        "print(uranus_planet)\n",
        "\n",
        "# FLOAT\n",
        "uranus_AU = float(input(\"Enter the AU of the planet: \"))\n",
        "print(uranus_AU)\n",
        "\n",
        "# INTEGER\n",
        "uranus_diam = int(input(\"Enter the diameter of the planet: \"))\n",
        "print(uranus_diam)\n",
        "\n",
        "# BOOLEAN\n",
        "uranus_moons = bool(input(\"does uranus has moons? \"))\n",
        "print(uranus_moons)"
      ],
      "metadata": {
        "colab": {
          "base_uri": "https://localhost:8080/"
        },
        "id": "wC3aKh_tRtVl",
        "outputId": "f1e0cfdd-8ebe-4a3d-e433-80ce2c72866b"
      },
      "execution_count": 92,
      "outputs": [
        {
          "output_type": "stream",
          "name": "stdout",
          "text": [
            "Enter the name of the planet that has the third largest diameter: Uranus\n",
            "Uranus\n",
            "Enter the AU of the planet: 19.0\n",
            "19.0\n",
            "Enter the diameter of the planet: 31763\n",
            "31763\n",
            "does uranus has moons? true\n",
            "True\n"
          ]
        }
      ]
    },
    {
      "cell_type": "code",
      "source": [
        "# URANUS AND OPERATIONS\n",
        "\n",
        "# ARITHMETIC OPERATIONS\n",
        "uranus_radius = 25362  # in km\n",
        "uranus_orbit_days = 30687  # days to orbit the Sun\n",
        "\n",
        "diameter_uranus = uranus_radius * 2  # Multiplication\n",
        "half_orbit = uranus_orbit_days / 2  # Division\n",
        "increased_orbit = uranus_orbit_days + 500  # Addition\n",
        "reduced_orbit = uranus_orbit_days - 200  # Subtraction\n",
        "\n",
        "print(diameter_uranus)\n",
        "print(half_orbit)\n",
        "print(increased_orbit)\n",
        "print(reduced_orbit)\n",
        "\n",
        "# ASSIGNMENT OPERATIONS\n",
        "uranus_avg_temp = -224  # in Celsius\n",
        "uranus_avg_add_temp = 10\n",
        "uranus_avg_sub_temp = 5\n",
        "uranus_avg_mul_temp = 2\n",
        "uranus_avg_div_temp = 2\n",
        "\n",
        "uranus_avg_add_temp += 10  # Increase by 10\n",
        "uranus_avg_sub_temp -= 5  # Decrease by 5\n",
        "uranus_avg_mul_temp *= 2  # Double the temperature\n",
        "uranus_avg_div_temp /= 2\n",
        "\n",
        "print(uranus_avg_temp)\n",
        "print(uranus_avg_add_temp)\n",
        "print(uranus_avg_sub_temp)\n",
        "print(uranus_avg_mul_temp)\n",
        "print(uranus_avg_div_temp)\n",
        "\n",
        "\n",
        "# COMPARISON OPERATORS\n",
        "uranus_radius = 25362  # in km\n",
        "earth_radius = 6371\n",
        "print(uranus_radius == earth_radius)\n",
        "print(uranus_radius != earth_radius)\n",
        "print(uranus_radius > earth_radius)\n",
        "print(uranus_radius < earth_radius)\n",
        "print(uranus_radius >= earth_radius)\n",
        "print(uranus_radius <= earth_radius)\n",
        "\n",
        "# LOGICAL OPERATORS\n",
        "URANUS_moons = True\n",
        "URANUS_rings = True\n",
        "print(URANUS_moons and URANUS_rings)\n",
        "print(URANUS_moons or URANUS_rings)\n",
        "print(not(URANUS_moons))\n",
        "print(not(URANUS_rings))"
      ],
      "metadata": {
        "colab": {
          "base_uri": "https://localhost:8080/"
        },
        "id": "YJQa0QKlRtX_",
        "outputId": "7cc0990f-dd7d-49cd-d8e5-22a4328df2c6"
      },
      "execution_count": 74,
      "outputs": [
        {
          "output_type": "stream",
          "name": "stdout",
          "text": [
            "50724\n",
            "15343.5\n",
            "31187\n",
            "30487\n",
            "-224\n",
            "20\n",
            "0\n",
            "4\n",
            "1.0\n",
            "False\n",
            "True\n",
            "True\n",
            "False\n",
            "True\n",
            "False\n",
            "True\n",
            "True\n",
            "False\n",
            "False\n"
          ]
        }
      ]
    },
    {
      "cell_type": "code",
      "source": [
        "# URANUS AND CONDITIONS\n",
        "uranus_axialtilt = 100\n",
        "if uranus_axialtilt > 90:\n",
        "  print(\"uranus is tilted on its right side\")\n",
        "else:\n",
        "  print(\"it rotates more upright\")\n",
        "\n",
        "uranus_distance = 150\n",
        "earth_distance = 2871\n",
        "if uranus_distance > earth_distance:\n",
        "  print(\"uranus has greater distance than earth\")\n",
        "elif uranus_distance == earth_distance:\n",
        "  print(\"they have same distance\")\n",
        "else:\n",
        "  print(\"earth has greater distance\")"
      ],
      "metadata": {
        "colab": {
          "base_uri": "https://localhost:8080/"
        },
        "id": "VylUTHsU516G",
        "outputId": "97710450-6ea5-4a37-8798-f7c076165899"
      },
      "execution_count": 75,
      "outputs": [
        {
          "output_type": "stream",
          "name": "stdout",
          "text": [
            "uranus is tilted on its right side\n",
            "earth has greater distance\n"
          ]
        }
      ]
    },
    {
      "cell_type": "code",
      "source": [
        "# URANUS AND LOOPS\n",
        "for i in range(10):\n",
        "  print(\"uranus is a blue planet\")\n",
        "\n",
        "for i in range(5):\n",
        "  print(\"uranus has 28 moons\")\n",
        "\n",
        "# WHILE LOOPS\n",
        "U_moons = 28\n",
        "while U_moons >0:\n",
        "  U_moons -= 1\n",
        "  print(\"uranus has 28 moons\")"
      ],
      "metadata": {
        "colab": {
          "base_uri": "https://localhost:8080/"
        },
        "id": "bnRvoCS_XJpv",
        "outputId": "c30fc491-70b3-4174-bffa-d40722538abc"
      },
      "execution_count": 77,
      "outputs": [
        {
          "output_type": "stream",
          "name": "stdout",
          "text": [
            "uranus is a blue planet\n",
            "uranus is a blue planet\n",
            "uranus is a blue planet\n",
            "uranus is a blue planet\n",
            "uranus is a blue planet\n",
            "uranus is a blue planet\n",
            "uranus is a blue planet\n",
            "uranus is a blue planet\n",
            "uranus is a blue planet\n",
            "uranus is a blue planet\n",
            "uranus has 28 moons\n",
            "uranus has 28 moons\n",
            "uranus has 28 moons\n",
            "uranus has 28 moons\n",
            "uranus has 28 moons\n",
            "uranus has 28 moons\n",
            "uranus has 28 moons\n",
            "uranus has 28 moons\n",
            "uranus has 28 moons\n",
            "uranus has 28 moons\n",
            "uranus has 28 moons\n",
            "uranus has 28 moons\n",
            "uranus has 28 moons\n",
            "uranus has 28 moons\n",
            "uranus has 28 moons\n",
            "uranus has 28 moons\n",
            "uranus has 28 moons\n",
            "uranus has 28 moons\n",
            "uranus has 28 moons\n",
            "uranus has 28 moons\n",
            "uranus has 28 moons\n",
            "uranus has 28 moons\n",
            "uranus has 28 moons\n",
            "uranus has 28 moons\n",
            "uranus has 28 moons\n",
            "uranus has 28 moons\n",
            "uranus has 28 moons\n",
            "uranus has 28 moons\n",
            "uranus has 28 moons\n",
            "uranus has 28 moons\n",
            "uranus has 28 moons\n",
            "uranus has 28 moons\n",
            "uranus has 28 moons\n"
          ]
        }
      ]
    },
    {
      "cell_type": "code",
      "source": [
        "# URANUS AND FUNCTIONS\n",
        "def uranus_planet():\n",
        "  print(\"uranus is the seventh planet from the sun\")\n",
        "uranus_planet()\n",
        "\n",
        "def uranus_moons():\n",
        "  print(\"uranus has 28 moons\")\n",
        "uranus_moons()"
      ],
      "metadata": {
        "colab": {
          "base_uri": "https://localhost:8080/"
        },
        "id": "-lVRaQeFXJ1g",
        "outputId": "c4757350-9cb5-48a9-ffea-b8f363c24eac"
      },
      "execution_count": 5,
      "outputs": [
        {
          "output_type": "stream",
          "name": "stdout",
          "text": [
            "uranus is the seventh planet from the sun\n",
            "uranus has 28 moons\n"
          ]
        }
      ]
    },
    {
      "cell_type": "code",
      "source": [
        "# NEPTUNE AND DATA TYPES\n",
        "\n",
        "# STRING\n",
        "NEPTUNE = \"Neptune is the eighth and farthest-known planet from the Sun in the Solar System.\"\n",
        "print(NEPTUNE)\n",
        "\n",
        "# INTEGER\n",
        "neptune_avg_diam = 30775\n",
        "print(neptune_avg_diam)\n",
        "\n",
        "# FLOAT\n",
        "neptune_AU = 30.0\n",
        "print(neptune_AU)\n",
        "\n",
        "# BOOLEAN\n",
        "neptune_moons = True\n",
        "print(neptune_moons)"
      ],
      "metadata": {
        "colab": {
          "base_uri": "https://localhost:8080/"
        },
        "id": "ErS1S-53RtaL",
        "outputId": "f0facb25-b98c-47a1-ade5-2f15e09342af"
      },
      "execution_count": 78,
      "outputs": [
        {
          "output_type": "stream",
          "name": "stdout",
          "text": [
            "Neptune is the eighth and farthest-known planet from the Sun in the Solar System.\n",
            "30775\n",
            "30.0\n",
            "True\n"
          ]
        }
      ]
    },
    {
      "cell_type": "code",
      "source": [
        "# NEPTUNE INPUT AND TYPE CASTING\n",
        "\n",
        "# STRING\n",
        "neptune_planet = input(\"Enter the name of the planet that is farthest away from sun: \")\n",
        "print(neptune_planet)\n",
        "\n",
        "# FLOAT\n",
        "neptune_AU = float(input(\"Enter the AU of the planet: \"))\n",
        "print(neptune_AU)\n",
        "\n",
        "# INTEGER\n",
        "neptune_diam = int(input(\"Enter the diameter of the planet: \"))\n",
        "print(neptune_diam)\n",
        "\n",
        "# BOOLEAN\n",
        "neptune_moons = bool(input(\"does neptune has moons? \"))\n",
        "print(neptune_moons)\n"
      ],
      "metadata": {
        "colab": {
          "base_uri": "https://localhost:8080/"
        },
        "id": "K5wh6FDkRtdR",
        "outputId": "48c09713-f46a-4f01-86f3-72cb9ceb63ae"
      },
      "execution_count": 93,
      "outputs": [
        {
          "output_type": "stream",
          "name": "stdout",
          "text": [
            "Enter the name of the planet that is farthest away from sun: Neptune\n",
            "Neptune\n",
            "Enter the AU of the planet: 30.0\n",
            "30.0\n",
            "Enter the diameter of the planet: 30775\n",
            "30775\n",
            "does neptune has moons? yes\n",
            "True\n"
          ]
        }
      ]
    },
    {
      "cell_type": "code",
      "source": [
        "# NEPTUNE AND OPERATIONS\n",
        "\n",
        "# ARITHMETIC OPERATORS\n",
        "neptune_radius = 24622  # in km\n",
        "neptune_orbit_days = 60190  # days to orbit the Sun\n",
        "\n",
        "diameter_neptune = neptune_radius * 2  # Multiplication\n",
        "half_orbit = neptune_orbit_days / 2  # Division\n",
        "increased_orbit = neptune_orbit_days + 1000  # Addition\n",
        "reduced_orbit = neptune_orbit_days - 500  #\n",
        "\n",
        "print(diameter_neptune)\n",
        "print(half_orbit)\n",
        "print(increased_orbit)\n",
        "print(reduced_orbit)\n",
        "\n",
        "# ASSIGNMENT OPERATORS\n",
        "neptune_avg_temp = -214  # in Celsius\n",
        "neptune_avg_Add_temp = 10\n",
        "neptune_avg_Sub_temp = 10\n",
        "neptune_avg_Mul_temp = 10\n",
        "neptune_avg_Div_temp = 10\n",
        "\n",
        "neptune_avg_Add_temp += 10  # Increase by 10\n",
        "neptune_avg_Sub_temp -= 10\n",
        "neptune_avg_Mul_temp *= 10\n",
        "neptune_avg_Div_temp /= 10\n",
        "\n",
        "print(neptune_avg_temp)\n",
        "print(neptune_avg_Add_temp)\n",
        "print(neptune_avg_Sub_temp)\n",
        "print(neptune_avg_Mul_temp)\n",
        "print(neptune_avg_Div_temp)\n",
        "\n",
        "# COMPARISON OPERATORS\n",
        "neptune_radius = 24622  # in km\n",
        "earth_radius = 6371\n",
        "print(neptune_radius == earth_radius)\n",
        "print(neptune_radius != earth_radius)\n",
        "print(neptune_radius > earth_radius)\n",
        "print(neptune_radius < earth_radius)\n",
        "print(neptune_radius >= earth_radius)\n",
        "print(neptune_radius <= earth_radius)\n",
        "\n",
        "# LOGICAL OPERATORS\n",
        "neptune_moons = True\n",
        "neptune_rings = True\n",
        "print(neptune_moons and neptune_rings)\n",
        "print(neptune_moons or neptune_rings)\n",
        "print(not(neptune_moons))\n",
        "print(not(neptune_rings))"
      ],
      "metadata": {
        "colab": {
          "base_uri": "https://localhost:8080/"
        },
        "id": "Q7y_TrUoRtfG",
        "outputId": "0a04cb75-dc5d-471d-cb51-faefa29cbd47"
      },
      "execution_count": 80,
      "outputs": [
        {
          "output_type": "stream",
          "name": "stdout",
          "text": [
            "49244\n",
            "30095.0\n",
            "61190\n",
            "59690\n",
            "-214\n",
            "20\n",
            "0\n",
            "100\n",
            "1.0\n",
            "False\n",
            "True\n",
            "True\n",
            "False\n",
            "True\n",
            "False\n",
            "True\n",
            "True\n",
            "False\n",
            "False\n"
          ]
        }
      ]
    },
    {
      "cell_type": "code",
      "source": [
        "# NEPTUNE AND CONDITIONS\n",
        "NEPTUNE_WINDS = 1000\n",
        "if NEPTUNE_WINDS > 2000:\n",
        "  print(\"neptune has fast winds\")\n",
        "else:\n",
        "  print(\"they are not strongest\")\n",
        "\n",
        "neptune_temp = -214  # in Celsius\n",
        "\n",
        "if neptune_temp < -220:\n",
        "    print(\"Neptune is extremely cold.\")\n",
        "elif neptune_temp == -214:\n",
        "    print(\"Neptune's temperature is -214°C, which is very cold.\")\n",
        "else:\n",
        "    print(\"Neptune is not as cold as expected.\")\n"
      ],
      "metadata": {
        "colab": {
          "base_uri": "https://localhost:8080/"
        },
        "id": "BITsRFY6Rtha",
        "outputId": "cc7b48e1-f2c4-4962-f3de-7d93a6504a56"
      },
      "execution_count": 81,
      "outputs": [
        {
          "output_type": "stream",
          "name": "stdout",
          "text": [
            "they are not strongest\n",
            "Neptune's temperature is -214°C, which is very cold.\n"
          ]
        }
      ]
    },
    {
      "cell_type": "code",
      "source": [
        "# NEPTUNE AND LOOPS\n",
        "\n",
        "# FOR LOOPS\n",
        "for i in range(3):\n",
        "  print(\"neptune is icy blue\")\n",
        "\n",
        "name = \"Neptune\"\n",
        "for x in range(5):\n",
        "  print(name)\n",
        "\n",
        "# WHILE LOOPS\n",
        "count = 0\n",
        "while count < 10:\n",
        "  print(\"neptune is the farthest planet\")\n",
        "  count += 1"
      ],
      "metadata": {
        "colab": {
          "base_uri": "https://localhost:8080/"
        },
        "id": "46YnkEdoRtjv",
        "outputId": "1da6c57c-dcd4-4614-8bf1-89c4c537c52b"
      },
      "execution_count": 2,
      "outputs": [
        {
          "output_type": "stream",
          "name": "stdout",
          "text": [
            "neptune is icy blue\n",
            "neptune is icy blue\n",
            "neptune is icy blue\n",
            "Neptune\n",
            "Neptune\n",
            "Neptune\n",
            "Neptune\n",
            "Neptune\n",
            "neptune is the farthest planet\n",
            "neptune is the farthest planet\n",
            "neptune is the farthest planet\n",
            "neptune is the farthest planet\n",
            "neptune is the farthest planet\n",
            "neptune is the farthest planet\n",
            "neptune is the farthest planet\n",
            "neptune is the farthest planet\n",
            "neptune is the farthest planet\n",
            "neptune is the farthest planet\n"
          ]
        }
      ]
    },
    {
      "cell_type": "code",
      "source": [
        "# NEPTUNE AND FUNCTIONS\n",
        "def neptune_planet():\n",
        "  print(\"neptune is the most distant planet\")\n",
        "\n",
        "neptune_planet()\n",
        "\n",
        "def neptune_characteristic():\n",
        "  print(\"neptune is icy giant planet\")\n",
        "neptune_characteristic()"
      ],
      "metadata": {
        "colab": {
          "base_uri": "https://localhost:8080/"
        },
        "id": "529jBaUzRtl-",
        "outputId": "9c6c1096-261f-46e2-c27e-504b6d76e606"
      },
      "execution_count": 94,
      "outputs": [
        {
          "output_type": "stream",
          "name": "stdout",
          "text": [
            "neptune is the most distant planet\n",
            "neptune is icy giant planet\n"
          ]
        }
      ]
    },
    {
      "cell_type": "code",
      "source": [],
      "metadata": {
        "id": "79QXq93PRtpv"
      },
      "execution_count": null,
      "outputs": []
    },
    {
      "cell_type": "code",
      "source": [],
      "metadata": {
        "id": "1yUa68PnFY5W"
      },
      "execution_count": null,
      "outputs": []
    }
  ]
}